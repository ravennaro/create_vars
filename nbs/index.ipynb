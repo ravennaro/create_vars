{
 "cells": [
  {
   "cell_type": "raw",
   "metadata": {},
   "source": [
    "---\n",
    "description: \"Cria\\xE7\\xE3o de vari\\xE1veis em janelas de tempo.\"\n",
    "output-file: index.html\n",
    "title: create_vars\n",
    "\n",
    "---\n",
    "\n"
   ]
  },
  {
   "cell_type": "code",
   "execution_count": null,
   "metadata": {},
   "outputs": [],
   "source": [
    "from create_vars.vars import *"
   ]
  },
  {
   "cell_type": "code",
   "execution_count": null,
   "metadata": {},
   "outputs": [],
   "source": [
    "import pandas as pd\n",
    "import random\n",
    "import numpy as np"
   ]
  },
  {
   "cell_type": "markdown",
   "metadata": {},
   "source": [
    "Criando variáveis numéricas e categóricas "
   ]
  },
  {
   "cell_type": "markdown",
   "metadata": {},
   "source": [
    "## Install"
   ]
  },
  {
   "cell_type": "markdown",
   "metadata": {},
   "source": [
    "```sh\n",
    "pip install create_vars\n",
    "```"
   ]
  },
  {
   "cell_type": "markdown",
   "metadata": {},
   "source": [
    "## How to use"
   ]
  },
  {
   "cell_type": "markdown",
   "metadata": {},
   "source": [
    "### Criando dataframe aleatório"
   ]
  },
  {
   "cell_type": "markdown",
   "metadata": {},
   "source": [
    "Criando DataFrame com variáveis categóricas e numéricas"
   ]
  },
  {
   "cell_type": "code",
   "execution_count": null,
   "metadata": {},
   "outputs": [],
   "source": [
    "# Criando o DataFrame\n",
    "data = {\n",
    "    'ID_cliente': [random.choice(list(range(1, 101)))for _ in range(100)],\n",
    "    'Safra': [random.choice([202207, 202209, 202212, 202301, 202207, 202302, 202305, 202306]) for _ in range(100)],\n",
    "    'Feat_cat': [random.choice(['A', 'B', 'C']) for _ in range(100)],    \n",
    "    'Feat_num1': np.random.randint(0, 100, size=100),\n",
    "    'Feat_num2': np.random.randint(0, 100, size=100)\n",
    "}\n",
    "df = pd.DataFrame(data)"
   ]
  },
  {
   "cell_type": "code",
   "execution_count": null,
   "metadata": {},
   "outputs": [
    {
     "data": {
      "text/html": [
       "<div>\n",
       "<style scoped>\n",
       "    .dataframe tbody tr th:only-of-type {\n",
       "        vertical-align: middle;\n",
       "    }\n",
       "\n",
       "    .dataframe tbody tr th {\n",
       "        vertical-align: top;\n",
       "    }\n",
       "\n",
       "    .dataframe thead th {\n",
       "        text-align: right;\n",
       "    }\n",
       "</style>\n",
       "<table border=\"1\" class=\"dataframe\">\n",
       "  <thead>\n",
       "    <tr style=\"text-align: right;\">\n",
       "      <th></th>\n",
       "      <th>ID_cliente</th>\n",
       "      <th>Safra</th>\n",
       "      <th>Feat_cat</th>\n",
       "      <th>Feat_num1</th>\n",
       "      <th>Feat_num2</th>\n",
       "    </tr>\n",
       "  </thead>\n",
       "  <tbody>\n",
       "    <tr>\n",
       "      <th>0</th>\n",
       "      <td>75</td>\n",
       "      <td>202207</td>\n",
       "      <td>A</td>\n",
       "      <td>72</td>\n",
       "      <td>66</td>\n",
       "    </tr>\n",
       "    <tr>\n",
       "      <th>1</th>\n",
       "      <td>30</td>\n",
       "      <td>202209</td>\n",
       "      <td>B</td>\n",
       "      <td>44</td>\n",
       "      <td>90</td>\n",
       "    </tr>\n",
       "    <tr>\n",
       "      <th>2</th>\n",
       "      <td>70</td>\n",
       "      <td>202301</td>\n",
       "      <td>B</td>\n",
       "      <td>82</td>\n",
       "      <td>33</td>\n",
       "    </tr>\n",
       "    <tr>\n",
       "      <th>3</th>\n",
       "      <td>76</td>\n",
       "      <td>202302</td>\n",
       "      <td>A</td>\n",
       "      <td>37</td>\n",
       "      <td>70</td>\n",
       "    </tr>\n",
       "    <tr>\n",
       "      <th>4</th>\n",
       "      <td>81</td>\n",
       "      <td>202305</td>\n",
       "      <td>C</td>\n",
       "      <td>76</td>\n",
       "      <td>17</td>\n",
       "    </tr>\n",
       "  </tbody>\n",
       "</table>\n",
       "</div>"
      ],
      "text/plain": [
       "   ID_cliente   Safra Feat_cat  Feat_num1  Feat_num2\n",
       "0          75  202207        A         72         66\n",
       "1          30  202209        B         44         90\n",
       "2          70  202301        B         82         33\n",
       "3          76  202302        A         37         70\n",
       "4          81  202305        C         76         17"
      ]
     },
     "execution_count": null,
     "metadata": {},
     "output_type": "execute_result"
    }
   ],
   "source": [
    "df.head()"
   ]
  },
  {
   "cell_type": "markdown",
   "metadata": {},
   "source": [
    "O Dataframe criado tem o ID do cliente aleatório, que pode se repetir em datas diferentes.Por exemplo:"
   ]
  },
  {
   "cell_type": "code",
   "execution_count": null,
   "metadata": {},
   "outputs": [
    {
     "data": {
      "text/plain": [
       "ID_cliente  Safra \n",
       "11          202207    2\n",
       "70          202301    2\n",
       "3           202305    1\n",
       "73          202209    1\n",
       "79          202207    1\n",
       "                     ..\n",
       "35          202302    1\n",
       "34          202305    1\n",
       "            202306    1\n",
       "33          202306    1\n",
       "99          202306    1\n",
       "Name: count, Length: 98, dtype: int64"
      ]
     },
     "execution_count": null,
     "metadata": {},
     "output_type": "execute_result"
    }
   ],
   "source": [
    "df.groupby('ID_cliente')['Safra'].value_counts().sort_values(ascending=False)"
   ]
  },
  {
   "cell_type": "markdown",
   "metadata": {},
   "source": [
    "A safra corresponde a data que cada variável foi calculada. Ela precisa estar no formato YYYYMM ou YYYYMMDD. Para o nosso exemplo teremos a seguinte distribuição das datas:"
   ]
  },
  {
   "cell_type": "code",
   "execution_count": null,
   "metadata": {},
   "outputs": [
    {
     "data": {
      "text/plain": [
       "Safra\n",
       "202207    23\n",
       "202209    12\n",
       "202212     5\n",
       "202301    13\n",
       "202302    15\n",
       "202305    15\n",
       "202306    17\n",
       "Name: count, dtype: int64"
      ]
     },
     "execution_count": null,
     "metadata": {},
     "output_type": "execute_result"
    }
   ],
   "source": [
    "df['Safra'].value_counts().sort_index()"
   ]
  },
  {
   "cell_type": "markdown",
   "metadata": {},
   "source": [
    "### Safra de ref"
   ]
  },
  {
   "cell_type": "markdown",
   "metadata": {},
   "source": [
    "Criando safra de referencia no formato YYYYMM: "
   ]
  },
  {
   "cell_type": "code",
   "execution_count": null,
   "metadata": {},
   "outputs": [],
   "source": [
    "df['safra_ref'] = '20230702'"
   ]
  },
  {
   "cell_type": "markdown",
   "metadata": {},
   "source": [
    "Também podemos utilizar o formato YYYYMMDD."
   ]
  },
  {
   "cell_type": "markdown",
   "metadata": {},
   "source": [
    "### Variáveis numéricas"
   ]
  },
  {
   "cell_type": "markdown",
   "metadata": {},
   "source": [
    "A partir do ID_cliente do cliente e da Safra, agrupamos as entradas e calculamos variáveis do tipo 'sum', 'mean' e 'count' que são fornecidas em forma de lista em 'operations' para variáveis numéricas. As variáveis utilizadas são listadas em 'value_var' e calculadas nas janelas de tempo em 'window' para a data de referência em 'ref_time_var'."
   ]
  },
  {
   "cell_type": "code",
   "execution_count": null,
   "metadata": {},
   "outputs": [],
   "source": [
    "id_cols = ['ID_cliente','Safra']\n",
    "trns_time = 'Safra'\n",
    "ref_time = 'safra_ref'\n",
    "value_var = ['Feat_num1','Feat_num2']\n",
    "window = [-1,-2,-3,-6,-9,-12,-15]\n",
    "operations = ['sum','mean','count']\n",
    "\n",
    "df_vars_num = create_vars_in_time(df,id_cols,trns_time,ref_time,value_var,window,operations)"
   ]
  },
  {
   "cell_type": "code",
   "execution_count": null,
   "metadata": {},
   "outputs": [
    {
     "data": {
      "text/html": [
       "<div>\n",
       "<style scoped>\n",
       "    .dataframe tbody tr th:only-of-type {\n",
       "        vertical-align: middle;\n",
       "    }\n",
       "\n",
       "    .dataframe tbody tr th {\n",
       "        vertical-align: top;\n",
       "    }\n",
       "\n",
       "    .dataframe thead th {\n",
       "        text-align: right;\n",
       "    }\n",
       "</style>\n",
       "<table border=\"1\" class=\"dataframe\">\n",
       "  <thead>\n",
       "    <tr style=\"text-align: right;\">\n",
       "      <th></th>\n",
       "      <th>ID_cliente</th>\n",
       "      <th>Safra</th>\n",
       "      <th>Feat_num1_sum_1M</th>\n",
       "      <th>Feat_num1_mean_1M</th>\n",
       "      <th>Feat_num1_count_1M</th>\n",
       "      <th>Feat_num1_sum_2M</th>\n",
       "      <th>Feat_num1_mean_2M</th>\n",
       "      <th>Feat_num1_count_2M</th>\n",
       "      <th>Feat_num1_sum_3M</th>\n",
       "      <th>Feat_num1_mean_3M</th>\n",
       "      <th>...</th>\n",
       "      <th>Feat_num2_count_6M</th>\n",
       "      <th>Feat_num2_sum_9M</th>\n",
       "      <th>Feat_num2_mean_9M</th>\n",
       "      <th>Feat_num2_count_9M</th>\n",
       "      <th>Feat_num2_sum_12M</th>\n",
       "      <th>Feat_num2_mean_12M</th>\n",
       "      <th>Feat_num2_count_12M</th>\n",
       "      <th>Feat_num2_sum_15M</th>\n",
       "      <th>Feat_num2_mean_15M</th>\n",
       "      <th>Feat_num2_count_15M</th>\n",
       "    </tr>\n",
       "  </thead>\n",
       "  <tbody>\n",
       "    <tr>\n",
       "      <th>0</th>\n",
       "      <td>75</td>\n",
       "      <td>202207</td>\n",
       "      <td>NaN</td>\n",
       "      <td>NaN</td>\n",
       "      <td>NaN</td>\n",
       "      <td>NaN</td>\n",
       "      <td>NaN</td>\n",
       "      <td>NaN</td>\n",
       "      <td>NaN</td>\n",
       "      <td>NaN</td>\n",
       "      <td>...</td>\n",
       "      <td>NaN</td>\n",
       "      <td>NaN</td>\n",
       "      <td>NaN</td>\n",
       "      <td>NaN</td>\n",
       "      <td>NaN</td>\n",
       "      <td>NaN</td>\n",
       "      <td>NaN</td>\n",
       "      <td>66</td>\n",
       "      <td>66.0</td>\n",
       "      <td>1</td>\n",
       "    </tr>\n",
       "    <tr>\n",
       "      <th>1</th>\n",
       "      <td>30</td>\n",
       "      <td>202209</td>\n",
       "      <td>NaN</td>\n",
       "      <td>NaN</td>\n",
       "      <td>NaN</td>\n",
       "      <td>NaN</td>\n",
       "      <td>NaN</td>\n",
       "      <td>NaN</td>\n",
       "      <td>NaN</td>\n",
       "      <td>NaN</td>\n",
       "      <td>...</td>\n",
       "      <td>NaN</td>\n",
       "      <td>NaN</td>\n",
       "      <td>NaN</td>\n",
       "      <td>NaN</td>\n",
       "      <td>90.0</td>\n",
       "      <td>90.0</td>\n",
       "      <td>1.0</td>\n",
       "      <td>90</td>\n",
       "      <td>90.0</td>\n",
       "      <td>1</td>\n",
       "    </tr>\n",
       "    <tr>\n",
       "      <th>2</th>\n",
       "      <td>70</td>\n",
       "      <td>202301</td>\n",
       "      <td>NaN</td>\n",
       "      <td>NaN</td>\n",
       "      <td>NaN</td>\n",
       "      <td>NaN</td>\n",
       "      <td>NaN</td>\n",
       "      <td>NaN</td>\n",
       "      <td>NaN</td>\n",
       "      <td>NaN</td>\n",
       "      <td>...</td>\n",
       "      <td>NaN</td>\n",
       "      <td>111.0</td>\n",
       "      <td>55.5</td>\n",
       "      <td>2.0</td>\n",
       "      <td>111.0</td>\n",
       "      <td>55.5</td>\n",
       "      <td>2.0</td>\n",
       "      <td>111</td>\n",
       "      <td>55.5</td>\n",
       "      <td>2</td>\n",
       "    </tr>\n",
       "    <tr>\n",
       "      <th>3</th>\n",
       "      <td>76</td>\n",
       "      <td>202302</td>\n",
       "      <td>NaN</td>\n",
       "      <td>NaN</td>\n",
       "      <td>NaN</td>\n",
       "      <td>NaN</td>\n",
       "      <td>NaN</td>\n",
       "      <td>NaN</td>\n",
       "      <td>NaN</td>\n",
       "      <td>NaN</td>\n",
       "      <td>...</td>\n",
       "      <td>1.0</td>\n",
       "      <td>70.0</td>\n",
       "      <td>70.0</td>\n",
       "      <td>1.0</td>\n",
       "      <td>70.0</td>\n",
       "      <td>70.0</td>\n",
       "      <td>1.0</td>\n",
       "      <td>70</td>\n",
       "      <td>70.0</td>\n",
       "      <td>1</td>\n",
       "    </tr>\n",
       "    <tr>\n",
       "      <th>4</th>\n",
       "      <td>81</td>\n",
       "      <td>202305</td>\n",
       "      <td>NaN</td>\n",
       "      <td>NaN</td>\n",
       "      <td>NaN</td>\n",
       "      <td>NaN</td>\n",
       "      <td>NaN</td>\n",
       "      <td>NaN</td>\n",
       "      <td>76.0</td>\n",
       "      <td>76.0</td>\n",
       "      <td>...</td>\n",
       "      <td>1.0</td>\n",
       "      <td>17.0</td>\n",
       "      <td>17.0</td>\n",
       "      <td>1.0</td>\n",
       "      <td>17.0</td>\n",
       "      <td>17.0</td>\n",
       "      <td>1.0</td>\n",
       "      <td>17</td>\n",
       "      <td>17.0</td>\n",
       "      <td>1</td>\n",
       "    </tr>\n",
       "  </tbody>\n",
       "</table>\n",
       "<p>5 rows × 44 columns</p>\n",
       "</div>"
      ],
      "text/plain": [
       "   ID_cliente   Safra  Feat_num1_sum_1M  Feat_num1_mean_1M  \\\n",
       "0          75  202207               NaN                NaN   \n",
       "1          30  202209               NaN                NaN   \n",
       "2          70  202301               NaN                NaN   \n",
       "3          76  202302               NaN                NaN   \n",
       "4          81  202305               NaN                NaN   \n",
       "\n",
       "   Feat_num1_count_1M  Feat_num1_sum_2M  Feat_num1_mean_2M  \\\n",
       "0                 NaN               NaN                NaN   \n",
       "1                 NaN               NaN                NaN   \n",
       "2                 NaN               NaN                NaN   \n",
       "3                 NaN               NaN                NaN   \n",
       "4                 NaN               NaN                NaN   \n",
       "\n",
       "   Feat_num1_count_2M  Feat_num1_sum_3M  Feat_num1_mean_3M  ...  \\\n",
       "0                 NaN               NaN                NaN  ...   \n",
       "1                 NaN               NaN                NaN  ...   \n",
       "2                 NaN               NaN                NaN  ...   \n",
       "3                 NaN               NaN                NaN  ...   \n",
       "4                 NaN              76.0               76.0  ...   \n",
       "\n",
       "   Feat_num2_count_6M  Feat_num2_sum_9M  Feat_num2_mean_9M  \\\n",
       "0                 NaN               NaN                NaN   \n",
       "1                 NaN               NaN                NaN   \n",
       "2                 NaN             111.0               55.5   \n",
       "3                 1.0              70.0               70.0   \n",
       "4                 1.0              17.0               17.0   \n",
       "\n",
       "   Feat_num2_count_9M  Feat_num2_sum_12M  Feat_num2_mean_12M  \\\n",
       "0                 NaN                NaN                 NaN   \n",
       "1                 NaN               90.0                90.0   \n",
       "2                 2.0              111.0                55.5   \n",
       "3                 1.0               70.0                70.0   \n",
       "4                 1.0               17.0                17.0   \n",
       "\n",
       "   Feat_num2_count_12M  Feat_num2_sum_15M  Feat_num2_mean_15M  \\\n",
       "0                  NaN                 66                66.0   \n",
       "1                  1.0                 90                90.0   \n",
       "2                  2.0                111                55.5   \n",
       "3                  1.0                 70                70.0   \n",
       "4                  1.0                 17                17.0   \n",
       "\n",
       "   Feat_num2_count_15M  \n",
       "0                    1  \n",
       "1                    1  \n",
       "2                    2  \n",
       "3                    1  \n",
       "4                    1  \n",
       "\n",
       "[5 rows x 44 columns]"
      ]
     },
     "execution_count": null,
     "metadata": {},
     "output_type": "execute_result"
    }
   ],
   "source": [
    "df_vars_num.head()"
   ]
  },
  {
   "cell_type": "markdown",
   "metadata": {},
   "source": [
    "### Variáveis categóricas"
   ]
  },
  {
   "cell_type": "markdown",
   "metadata": {},
   "source": [
    "Para variáveis categóricas, as operações são 'nunique' e mode.\n"
   ]
  },
  {
   "cell_type": "code",
   "execution_count": null,
   "metadata": {},
   "outputs": [],
   "source": [
    "id_cols = ['ID_cliente','Safra']\n",
    "trns_time = 'Safra'\n",
    "ref_time = 'safra_ref'\n",
    "value_var = ['Feat_cat']\n",
    "window = [-1,-2,-3,-6,-9,-12,-15]\n",
    "operations = ['nunique', mode]\n",
    "\n",
    "df_vars_cat = create_vars_in_time(df,id_cols,trns_time,ref_time,value_var,window,operations)"
   ]
  },
  {
   "cell_type": "code",
   "execution_count": null,
   "metadata": {},
   "outputs": [
    {
     "data": {
      "text/html": [
       "<div>\n",
       "<style scoped>\n",
       "    .dataframe tbody tr th:only-of-type {\n",
       "        vertical-align: middle;\n",
       "    }\n",
       "\n",
       "    .dataframe tbody tr th {\n",
       "        vertical-align: top;\n",
       "    }\n",
       "\n",
       "    .dataframe thead th {\n",
       "        text-align: right;\n",
       "    }\n",
       "</style>\n",
       "<table border=\"1\" class=\"dataframe\">\n",
       "  <thead>\n",
       "    <tr style=\"text-align: right;\">\n",
       "      <th></th>\n",
       "      <th>ID_cliente</th>\n",
       "      <th>Safra</th>\n",
       "      <th>Feat_cat_nunique_1M</th>\n",
       "      <th>Feat_cat_mode_1M</th>\n",
       "      <th>Feat_cat_nunique_2M</th>\n",
       "      <th>Feat_cat_mode_2M</th>\n",
       "      <th>Feat_cat_nunique_3M</th>\n",
       "      <th>Feat_cat_mode_3M</th>\n",
       "      <th>Feat_cat_nunique_6M</th>\n",
       "      <th>Feat_cat_mode_6M</th>\n",
       "      <th>Feat_cat_nunique_9M</th>\n",
       "      <th>Feat_cat_mode_9M</th>\n",
       "      <th>Feat_cat_nunique_12M</th>\n",
       "      <th>Feat_cat_mode_12M</th>\n",
       "      <th>Feat_cat_nunique_15M</th>\n",
       "      <th>Feat_cat_mode_15M</th>\n",
       "    </tr>\n",
       "  </thead>\n",
       "  <tbody>\n",
       "    <tr>\n",
       "      <th>0</th>\n",
       "      <td>75</td>\n",
       "      <td>202207</td>\n",
       "      <td>NaN</td>\n",
       "      <td>NaN</td>\n",
       "      <td>NaN</td>\n",
       "      <td>NaN</td>\n",
       "      <td>NaN</td>\n",
       "      <td>NaN</td>\n",
       "      <td>NaN</td>\n",
       "      <td>NaN</td>\n",
       "      <td>NaN</td>\n",
       "      <td>NaN</td>\n",
       "      <td>NaN</td>\n",
       "      <td>NaN</td>\n",
       "      <td>1</td>\n",
       "      <td>A</td>\n",
       "    </tr>\n",
       "    <tr>\n",
       "      <th>1</th>\n",
       "      <td>30</td>\n",
       "      <td>202209</td>\n",
       "      <td>NaN</td>\n",
       "      <td>NaN</td>\n",
       "      <td>NaN</td>\n",
       "      <td>NaN</td>\n",
       "      <td>NaN</td>\n",
       "      <td>NaN</td>\n",
       "      <td>NaN</td>\n",
       "      <td>NaN</td>\n",
       "      <td>NaN</td>\n",
       "      <td>NaN</td>\n",
       "      <td>1.0</td>\n",
       "      <td>B</td>\n",
       "      <td>1</td>\n",
       "      <td>B</td>\n",
       "    </tr>\n",
       "    <tr>\n",
       "      <th>2</th>\n",
       "      <td>70</td>\n",
       "      <td>202301</td>\n",
       "      <td>NaN</td>\n",
       "      <td>NaN</td>\n",
       "      <td>NaN</td>\n",
       "      <td>NaN</td>\n",
       "      <td>NaN</td>\n",
       "      <td>NaN</td>\n",
       "      <td>NaN</td>\n",
       "      <td>NaN</td>\n",
       "      <td>2.0</td>\n",
       "      <td>A</td>\n",
       "      <td>2.0</td>\n",
       "      <td>A</td>\n",
       "      <td>2</td>\n",
       "      <td>A</td>\n",
       "    </tr>\n",
       "    <tr>\n",
       "      <th>3</th>\n",
       "      <td>76</td>\n",
       "      <td>202302</td>\n",
       "      <td>NaN</td>\n",
       "      <td>NaN</td>\n",
       "      <td>NaN</td>\n",
       "      <td>NaN</td>\n",
       "      <td>NaN</td>\n",
       "      <td>NaN</td>\n",
       "      <td>1.0</td>\n",
       "      <td>A</td>\n",
       "      <td>1.0</td>\n",
       "      <td>A</td>\n",
       "      <td>1.0</td>\n",
       "      <td>A</td>\n",
       "      <td>1</td>\n",
       "      <td>A</td>\n",
       "    </tr>\n",
       "    <tr>\n",
       "      <th>4</th>\n",
       "      <td>81</td>\n",
       "      <td>202305</td>\n",
       "      <td>NaN</td>\n",
       "      <td>NaN</td>\n",
       "      <td>NaN</td>\n",
       "      <td>NaN</td>\n",
       "      <td>1.0</td>\n",
       "      <td>C</td>\n",
       "      <td>1.0</td>\n",
       "      <td>C</td>\n",
       "      <td>1.0</td>\n",
       "      <td>C</td>\n",
       "      <td>1.0</td>\n",
       "      <td>C</td>\n",
       "      <td>1</td>\n",
       "      <td>C</td>\n",
       "    </tr>\n",
       "  </tbody>\n",
       "</table>\n",
       "</div>"
      ],
      "text/plain": [
       "   ID_cliente   Safra  Feat_cat_nunique_1M Feat_cat_mode_1M  \\\n",
       "0          75  202207                  NaN              NaN   \n",
       "1          30  202209                  NaN              NaN   \n",
       "2          70  202301                  NaN              NaN   \n",
       "3          76  202302                  NaN              NaN   \n",
       "4          81  202305                  NaN              NaN   \n",
       "\n",
       "   Feat_cat_nunique_2M Feat_cat_mode_2M  Feat_cat_nunique_3M Feat_cat_mode_3M  \\\n",
       "0                  NaN              NaN                  NaN              NaN   \n",
       "1                  NaN              NaN                  NaN              NaN   \n",
       "2                  NaN              NaN                  NaN              NaN   \n",
       "3                  NaN              NaN                  NaN              NaN   \n",
       "4                  NaN              NaN                  1.0                C   \n",
       "\n",
       "   Feat_cat_nunique_6M Feat_cat_mode_6M  Feat_cat_nunique_9M Feat_cat_mode_9M  \\\n",
       "0                  NaN              NaN                  NaN              NaN   \n",
       "1                  NaN              NaN                  NaN              NaN   \n",
       "2                  NaN              NaN                  2.0                A   \n",
       "3                  1.0                A                  1.0                A   \n",
       "4                  1.0                C                  1.0                C   \n",
       "\n",
       "   Feat_cat_nunique_12M Feat_cat_mode_12M  Feat_cat_nunique_15M  \\\n",
       "0                   NaN               NaN                     1   \n",
       "1                   1.0                 B                     1   \n",
       "2                   2.0                 A                     2   \n",
       "3                   1.0                 A                     1   \n",
       "4                   1.0                 C                     1   \n",
       "\n",
       "  Feat_cat_mode_15M  \n",
       "0                 A  \n",
       "1                 B  \n",
       "2                 A  \n",
       "3                 A  \n",
       "4                 C  "
      ]
     },
     "execution_count": null,
     "metadata": {},
     "output_type": "execute_result"
    }
   ],
   "source": [
    "df_vars_cat.head()"
   ]
  },
  {
   "cell_type": "code",
   "execution_count": null,
   "metadata": {},
   "outputs": [],
   "source": []
  }
 ],
 "metadata": {
  "kernelspec": {
   "display_name": "python3",
   "language": "python",
   "name": "python3"
  }
 },
 "nbformat": 4,
 "nbformat_minor": 4
}
