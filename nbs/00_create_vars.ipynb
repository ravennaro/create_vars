{
 "cells": [
  {
   "cell_type": "raw",
   "metadata": {},
   "source": [
    "---\n",
    "description: \"Cria variaveis em janelas de tempo.\"\n",
    "output-file: create_vars.html\n",
    "title: create_vars_in_time\n",
    "\n",
    "---\n",
    "\n"
   ]
  },
  {
   "cell_type": "code",
   "execution_count": 1,
   "metadata": {},
   "outputs": [],
   "source": [
    "#| default_exp vars"
   ]
  },
  {
   "cell_type": "code",
   "execution_count": 2,
   "metadata": {},
   "outputs": [],
   "source": [
    "#| hide\n",
    "from nbdev.showdoc import *\n",
    "import numpy as np"
   ]
  },
  {
   "cell_type": "code",
   "execution_count": 3,
   "metadata": {},
   "outputs": [],
   "source": [
    "#| export\n",
    "from fastcore.test import *\n",
    "from fastcore.utils import *\n",
    "\n",
    "import pandas as pd"
   ]
  },
  {
   "cell_type": "markdown",
   "metadata": {},
   "source": [
    "## Formatação das datas"
   ]
  },
  {
   "cell_type": "code",
   "execution_count": 4,
   "metadata": {},
   "outputs": [],
   "source": [
    "#|  hide\n",
    "# Função para verificar o tamanho dos valores na coluna\n",
    "def verifica_tamanho(valores, n):\n",
    "    return all(len(str(valor)) == n for valor in valores)"
   ]
  },
  {
   "cell_type": "code",
   "execution_count": 5,
   "metadata": {},
   "outputs": [],
   "source": [
    "#|  hide\n",
    "# Função de ajuste para a data da safra e a de referência. \n",
    "# Podendo ser no formato de 6 dígitos YYYYMM ou no formato de 8 YYYYMMDD. \n",
    "# Para o formato YYYYMM vamos construir uma data como sendo no dia 01 de cada mês. \n",
    "# Já para datas no formato YYYYMMDD vamos utilizar a janela de tempo mais precisa fornecida pelo usuário.\n",
    "\n",
    "def ajuste_tempo(df_, trns_time:str, ref_time:str):    \n",
    "\n",
    "    if verifica_tamanho(df_[trns_time], n=6):\n",
    "            # Cria datas com o formato YYYYMMDD para safra \n",
    "            df_['Safra_'] = df_[trns_time].apply(lambda x: str(x)+'01').apply(pd.to_datetime)\n",
    "    elif verifica_tamanho(df_[trns_time], n=8):\n",
    "            df_['Safra_'] = pd.to_datetime(df_[trns_time], format='%Y%m%d')\n",
    "    else:\n",
    "        print('Data da Safra no formato inválido!')\n",
    "\n",
    "    if verifica_tamanho(df_[ref_time], n=6):\n",
    "        # Cria datas com o formato YYYYMMDD para data de ref\n",
    "        df_['ref_time_var_'] = df_[ref_time].apply(lambda x: str(x)+'01').apply(pd.to_datetime) \n",
    "    elif verifica_tamanho(df_[ref_time], n=8):\n",
    "        df_['ref_time_var_'] = pd.to_datetime(df_[ref_time], format='%Y%m%d')\n",
    "    else:\n",
    "        print('Data de ref no formato inválido!')   \n",
    "\n",
    "\n",
    "    return df_"
   ]
  },
  {
   "cell_type": "markdown",
   "metadata": {},
   "source": [
    "## Função mode"
   ]
  },
  {
   "cell_type": "code",
   "execution_count": 6,
   "metadata": {},
   "outputs": [],
   "source": [
    "#|  export\n",
    "def mode(x):\n",
    "    return pd.Series.mode(x).values[0]"
   ]
  },
  {
   "cell_type": "markdown",
   "metadata": {},
   "source": [
    "Função mode para ser utilizada na criação de variáveis categóricas."
   ]
  },
  {
   "cell_type": "markdown",
   "metadata": {},
   "source": [
    "## Criação de variáveis"
   ]
  },
  {
   "cell_type": "code",
   "execution_count": 7,
   "metadata": {},
   "outputs": [],
   "source": [
    "#| export\n",
    "def create_vars_in_time(df_,id_cols,trns_time:str,ref_time:str,value_vars:list,window:list,operations:list):\n",
    "    \n",
    "    df = df_.copy()\n",
    "    df_spine =  df[id_cols].drop_duplicates()\n",
    "    df = ajuste_tempo(df, trns_time, ref_time)\n",
    "    trns_time_var = \"Safra_\"\n",
    "    ref_time_var = 'ref_time_var_'\n",
    "\n",
    "    for var in value_vars:\n",
    "        for size in window:\n",
    "            time_cond = (df[trns_time_var] < df[ref_time_var]) & (df[trns_time_var] >= df[ref_time_var] + pd.DateOffset(months=size))\n",
    "            df_grouped = df[time_cond].groupby(id_cols).agg({var:operations})\n",
    "            df_grouped.columns = ['_'.join(col).strip()+'_'+str(abs(size))+'M' for col in df_grouped.columns.values]\n",
    "            df_grouped.reset_index(inplace=True)\n",
    "            df_spine = df_spine.merge(df_grouped,on=id_cols,how='left')\n",
    "           \n",
    "    return df_spine"
   ]
  },
  {
   "cell_type": "markdown",
   "metadata": {},
   "source": [
    "Função utilizada para criar as variáveis categóricas e numéricas."
   ]
  },
  {
   "cell_type": "code",
   "execution_count": 8,
   "metadata": {},
   "outputs": [],
   "source": [
    "#| hide\n",
    "import nbdev; nbdev.nbdev_export()"
   ]
  }
 ],
 "metadata": {
  "kernelspec": {
   "display_name": "python3",
   "language": "python",
   "name": "python3"
  },
  "language_info": {
   "codemirror_mode": {
    "name": "ipython",
    "version": 3
   },
   "file_extension": ".py",
   "mimetype": "text/x-python",
   "name": "python",
   "nbconvert_exporter": "python",
   "pygments_lexer": "ipython3",
   "version": "3.9.13"
  }
 },
 "nbformat": 4,
 "nbformat_minor": 4
}
