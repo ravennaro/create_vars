{
 "cells": [
  {
   "cell_type": "raw",
   "metadata": {},
   "source": [
    "---\n",
    "description: Cria variaveis em janelas de tempo.\n",
    "output-file: featime.html\n",
    "title: featime_in_time\n",
    "\n",
    "---\n",
    "\n"
   ]
  },
  {
   "cell_type": "code",
   "execution_count": null,
   "metadata": {},
   "outputs": [],
   "source": [
    "#| default_exp featime"
   ]
  },
  {
   "cell_type": "code",
   "execution_count": null,
   "metadata": {},
   "outputs": [],
   "source": [
    "#| hide\n",
    "from nbdev.showdoc import *\n",
    "from fastcore.test import *"
   ]
  },
  {
   "cell_type": "code",
   "execution_count": null,
   "metadata": {},
   "outputs": [],
   "source": [
    "#| export\n",
    "from fastcore.test import *\n",
    "from fastcore.utils import *\n",
    "import pandas as pd"
   ]
  },
  {
   "cell_type": "markdown",
   "metadata": {},
   "source": [
    "## Função mode"
   ]
  },
  {
   "cell_type": "code",
   "execution_count": null,
   "metadata": {},
   "outputs": [],
   "source": [
    "#|  export\n",
    "def mode(x):\n",
    "    return pd.Series.mode(x).values[0]"
   ]
  },
  {
   "cell_type": "markdown",
   "metadata": {},
   "source": [
    "A função mode pode ser utilizada na criação de variáveis categóricas, ela representa a moda dos valores. Note que se existir mais de uma moda, por padrão a função retorna o primeiro valor em ordem alfabética."
   ]
  },
  {
   "cell_type": "markdown",
   "metadata": {},
   "source": [
    "Exemplo de utilização da função moda"
   ]
  },
  {
   "cell_type": "code",
   "execution_count": null,
   "metadata": {},
   "outputs": [
    {
     "data": {
      "text/plain": [
       "'b'"
      ]
     },
     "execution_count": null,
     "metadata": {},
     "output_type": "execute_result"
    }
   ],
   "source": [
    "lista1 = pd.DataFrame({'coluna1': ['a', 'b', 'b', 'b', 'c']})\n",
    "mode(lista1['coluna1'])"
   ]
  },
  {
   "cell_type": "markdown",
   "metadata": {},
   "source": [
    "Exemplo de moda com dois valores"
   ]
  },
  {
   "cell_type": "code",
   "execution_count": null,
   "metadata": {},
   "outputs": [
    {
     "data": {
      "text/plain": [
       "'a'"
      ]
     },
     "execution_count": null,
     "metadata": {},
     "output_type": "execute_result"
    }
   ],
   "source": [
    "lista1 = pd.DataFrame({'coluna1': ['b', 'b', 'a', 'a', 'c']})\n",
    "mode(lista1['coluna1'])"
   ]
  },
  {
   "cell_type": "markdown",
   "metadata": {},
   "source": [
    "## Criação de variáveis"
   ]
  },
  {
   "cell_type": "code",
   "execution_count": null,
   "metadata": {},
   "outputs": [],
   "source": [
    "#| export\n",
    "def featime_in_time(df_, # Dataframe\n",
    "                        id_cols, # Colunas de agrupamento como id e safra\n",
    "                        trns_time_var:str, # Data correspondente a variável \n",
    "                        ref_time_var:str, # Data que será a referência para calcular as janelas de tempo \n",
    "                        value_vars:list, # Lista das variáveis que serão calculadas as operações\n",
    "                        window:list, # Lista contendo a janela para calcular as variáveis \n",
    "                        operations:list # Lista das operações a serem calculadas\n",
    "                        ): \n",
    "    \n",
    "    df = df_.copy()\n",
    "    df[trns_time_var] = pd.to_datetime(df[trns_time_var], format='%Y%m%d')\n",
    "    df[ref_time_var] = pd.to_datetime(df[ref_time_var], format='%Y%m%d')\n",
    "    df_spine =  df[id_cols].drop_duplicates()\n",
    "\n",
    "    for var in value_vars:\n",
    "        for size in window:\n",
    "           \n",
    "            time_cond = (df[trns_time_var] < df[ref_time_var]) & (df[trns_time_var] >= df[ref_time_var] + pd.DateOffset(months=size))\n",
    "            df_grouped = df[time_cond].groupby(id_cols).agg({var:operations})\n",
    "            df_grouped.columns = ['_'.join(col).strip()+'_'+str(abs(size))+'M' for col in df_grouped.columns.values]\n",
    "            df_grouped.reset_index(inplace=True)\n",
    "            df_spine = df_spine.merge(df_grouped,on=id_cols,how='left')\n",
    "\n",
    "           \n",
    "    return df_spine"
   ]
  },
  {
   "cell_type": "markdown",
   "metadata": {},
   "source": [
    "Função utilizada para criar as variáveis categóricas e numéricas."
   ]
  },
  {
   "cell_type": "code",
   "execution_count": null,
   "metadata": {},
   "outputs": [],
   "source": [
    "#| hide\n",
    "import nbdev; nbdev.nbdev_export()"
   ]
  }
 ],
 "metadata": {
  "kernelspec": {
   "display_name": "python3",
   "language": "python",
   "name": "python3"
  }
 },
 "nbformat": 4,
 "nbformat_minor": 4
}
